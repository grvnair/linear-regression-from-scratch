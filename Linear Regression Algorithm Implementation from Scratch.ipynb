{
 "cells": [
  {
   "cell_type": "markdown",
   "id": "792fe584",
   "metadata": {},
   "source": [
    "***\n",
    "$\\mathbf{\\text{Linear Regression Algorithm}}$<br>\n",
    "***\n",
    "\n",
    "Linear Regression is one of the easiest and most popular algorithms in Machine Learning. It is used for predictive analysis of the data which shows a linear relationship between the dependent and independent variables.\n",
    "\n",
    "With respect to the given data points, we try to plot a straight line which fits best. This line is known as the regression line\n",
    "\n",
    "The equation for the regression line can be given as :\n",
    "\n",
    "\\begin{align}\n",
    "y = mx + c\n",
    "\\end{align}\n",
    "\n",
    "where, m = slope/bias, which is change in x divided by change in y\n",
    "c = intercept, that is the point where the regression line cuts the y-axis\n",
    "x = given input (independent variable)\n",
    "y = value to be predicted (dependent variable)\n",
    "\n",
    "\n",
    "Let us further understand the implementation with an example dataset:"
   ]
  },
  {
   "cell_type": "markdown",
   "id": "b76e86e9",
   "metadata": {},
   "source": [
    "### Loading required Libraries"
   ]
  },
  {
   "cell_type": "code",
   "execution_count": 1,
   "id": "ce1fc3fe",
   "metadata": {},
   "outputs": [],
   "source": [
    "import numpy as np # for mathematical computations\n",
    "import pandas as pd # to load dataset for testing the algorithm \n",
    "import matplotlib.pyplot as plt # for visualizations\n",
    "import seaborn as sns # for visualizations"
   ]
  },
  {
   "cell_type": "markdown",
   "id": "97c92813",
   "metadata": {},
   "source": [
    "### Creating random dataset which shows a positive linear relationship between dependent and independent variable"
   ]
  },
  {
   "cell_type": "code",
   "execution_count": 2,
   "id": "8d452fb7",
   "metadata": {},
   "outputs": [],
   "source": [
    "x = np.array([4, 5, 7, 8, 12, 15, 21, 27, 31, 41])\n",
    "y = np.array([3, 5, 7, 4, 11, 23, 25, 28, 37, 43])"
   ]
  },
  {
   "cell_type": "code",
   "execution_count": 3,
   "id": "aeae9b6c",
   "metadata": {},
   "outputs": [
    {
     "data": {
      "text/plain": [
       "<matplotlib.collections.PathCollection at 0x20c519a4dc0>"
      ]
     },
     "execution_count": 3,
     "metadata": {},
     "output_type": "execute_result"
    },
    {
     "data": {
      "image/png": "[encoded data removed]",
      "text/plain": [
       "<Figure size 640x480 with 1 Axes>"
      ]
     },
     "metadata": {},
     "output_type": "display_data"
    }
   ],
   "source": [
    "plt.scatter(x, y) # Visualizing the data points. We can clearly see that there is a positive relationship between the variables."
   ]
  },
  {
   "cell_type": "markdown",
   "id": "02441c1c",
   "metadata": {},
   "source": [
    "Our goal is to find the best fit line which has the least difference (error/residual) between the predicted value and the actual value.\n",
    "\n",
    "Cost function (J) will help us to minimize the erro by finding the best value for m and c. Cost function of linear regression is the Mean Squared Error (MSE) \n",
    "\n",
    "\\begin{align}\n",
    "J = \\frac{1}{N} \\sum{}{}(y - ŷ)^{2}\n",
    "\\end{align}\n",
    "\n",
    "<li> J = cost function </li>\n",
    "<li> N = Total number of observation/data points </li>\n",
    "<li> y = actual value </li>\n",
    "<li> ŷ = predicted value </li>"
   ]
  },
  {
   "cell_type": "markdown",
   "id": "f561d655",
   "metadata": {},
   "source": [
    "#### Mathematically, m is given as: \n",
    "\n",
    "\\begin{align}\n",
    "m = \\frac{\\sum{}{}(x - x̄)(y - ȳ)}{\\sum{}{}(x - x̄)^2}\n",
    "\\end{align}"
   ]
  },
  {
   "cell_type": "code",
   "execution_count": 4,
   "id": "989d42da",
   "metadata": {},
   "outputs": [
    {
     "data": {
      "text/plain": [
       "(17.1, 18.6)"
      ]
     },
     "execution_count": 4,
     "metadata": {},
     "output_type": "execute_result"
    }
   ],
   "source": [
    "# from the given data points, we can calculate the values for x̄ and ȳ\n",
    "\n",
    "mean_x = x.mean()\n",
    "mean_y = y.mean()\n",
    "\n",
    "mean_x, mean_y"
   ]
  },
  {
   "cell_type": "code",
   "execution_count": 5,
   "id": "3823c040",
   "metadata": {},
   "outputs": [
    {
     "data": {
      "text/plain": [
       "1.137855269686016"
      ]
     },
     "execution_count": 5,
     "metadata": {},
     "output_type": "execute_result"
    }
   ],
   "source": [
    "m = len(x) # Initializing m as length of the data\n",
    "\n",
    "numerator = 0\n",
    "denominator = 0\n",
    "\n",
    "for i in range(m): # Computing the values of the numerator and denominator.\n",
    "    numerator += (x[i] - mean_x) * (y[i] - mean_y)\n",
    "    denominator += (x[i] - mean_x) ** 2\n",
    "    \n",
    "m = numerator / denominator\n",
    "m"
   ]
  },
  {
   "cell_type": "markdown",
   "id": "2d10fad7",
   "metadata": {},
   "source": [
    "#### Putting the value of m in y = m*x + c by taking mean values of x and y, we will get:"
   ]
  },
  {
   "cell_type": "code",
   "execution_count": 6,
   "id": "2e97ae2e",
   "metadata": {},
   "outputs": [
    {
     "data": {
      "text/plain": [
       "-0.8573251116308747"
      ]
     },
     "execution_count": 6,
     "metadata": {},
     "output_type": "execute_result"
    }
   ],
   "source": [
    "c = mean_y - (m * mean_x)\n",
    "c"
   ]
  },
  {
   "cell_type": "markdown",
   "id": "184843f5",
   "metadata": {},
   "source": [
    "As we have found the best fit line, we can check how our model is performing. We can check this by calculating the R-Squared value.\n",
    "\n",
    "R-squared value (coefficient of determination) is a statistical measure of how close the data are to the fitted regression line.\n",
    "\n",
    "Mathematically, R-Squared is given as:\n",
    "\n",
    "\\begin{align}\n",
    "R^{2} = 1 - \\frac{sum squared regression (SSR)}{total sum of squares (SST)}\n",
    "\\end{align}\n",
    "\n",
    "\\begin{align}\n",
    "R^{2} = 1 - \\frac{\\sum{}{}(y - ŷ)^{2}}{\\sum{}{}(y - ȳ)^{2}}\n",
    "\\end{align}\n",
    "\n",
    "The sum squared regression is the sum of the residuals squared, and the total sum of squares is the sum of the distance the data is away from the mean all squared. As it is a percentage it will take values between 0 and 1."
   ]
  },
  {
   "cell_type": "code",
   "execution_count": 7,
   "id": "831e7a37",
   "metadata": {},
   "outputs": [],
   "source": [
    "sum_of_squares = 0\n",
    "sum_of_residuals = 0\n",
    "\n",
    "y_pred_list = []\n",
    "\n",
    "for i in range(len(x)):\n",
    "    y_pred = m*x[i] + c\n",
    "    y_pred_list.append(y_pred) # Appending the predicted y values in an empty list.\n",
    "    sum_of_squares += (y[i] - y_pred)**2\n",
    "    sum_of_residuals += (y[i] - mean_y)**2\n",
    "    \n",
    "    r2 = 1 - (sum_of_squares/sum_of_residuals)"
   ]
  },
  {
   "cell_type": "code",
   "execution_count": 8,
   "id": "2ffbccb5",
   "metadata": {},
   "outputs": [
    {
     "data": {
      "text/plain": [
       "0.9532001930463003"
      ]
     },
     "execution_count": 8,
     "metadata": {},
     "output_type": "execute_result"
    }
   ],
   "source": [
    "r2 "
   ]
  },
  {
   "cell_type": "markdown",
   "id": "640236f2",
   "metadata": {},
   "source": [
    "### This value of r2 states that, 95 % of the variation in the y values is accounted for by the x values. Hence this is a good score.\n",
    "\n",
    "<li>r squared=1 states that, all the variation in the y values is accounted for by the x values</li>\n",
    "<li>r squared=0 states that, none of the variation in the y values is accounted for by the x values</li>"
   ]
  },
  {
   "cell_type": "code",
   "execution_count": 9,
   "id": "85a493f5",
   "metadata": {},
   "outputs": [
    {
     "data": {
      "text/plain": [
       "[3.6940959671131894,\n",
       " 4.831951236799205,\n",
       " 7.107661776171238,\n",
       " 8.245517045857254,\n",
       " 12.796938124601319,\n",
       " 16.210503933659364,\n",
       " 23.037635551775463,\n",
       " 29.864767169891557,\n",
       " 34.41618824863562,\n",
       " 45.79474094549579]"
      ]
     },
     "execution_count": 9,
     "metadata": {},
     "output_type": "execute_result"
    }
   ],
   "source": [
    "y_pred_list"
   ]
  },
  {
   "cell_type": "code",
   "execution_count": 10,
   "id": "79f8b636",
   "metadata": {},
   "outputs": [
    {
     "name": "stderr",
     "output_type": "stream",
     "text": [
      "C:\\Users\\Gaurav\\anaconda3\\lib\\site-packages\\seaborn\\_decorators.py:36: FutureWarning: Pass the following variables as keyword args: x, y. From version 0.12, the only valid positional argument will be `data`, and passing other arguments without an explicit keyword will result in an error or misinterpretation.\n",
      "  warnings.warn(\n"
     ]
    },
    {
     "data": {
      "text/plain": [
       "<AxesSubplot:>"
      ]
     },
     "execution_count": 10,
     "metadata": {},
     "output_type": "execute_result"
    },
    {
     "data": {
      "image/png": "[encoded data removed]",
      "text/plain": [
       "<Figure size 640x480 with 1 Axes>"
      ]
     },
     "metadata": {},
     "output_type": "display_data"
    }
   ],
   "source": [
    "# Let's plot the regression line vs the data points\n",
    "plt.scatter(x, y)\n",
    "sns.lineplot(x, y_pred_list, color='green')"
   ]
  },
  {
   "cell_type": "markdown",
   "id": "d1d9455e",
   "metadata": {},
   "source": [
    "### Let us know implement this to a simple dataset from kaggle.\n",
    "\n",
    "### Dataset link: https://www.kaggle.com/datasets/karthickveerakumar/salary-data-simple-linear-regression?select=Salary_Data.csv"
   ]
  },
  {
   "cell_type": "code",
   "execution_count": 11,
   "id": "6e94ff46",
   "metadata": {},
   "outputs": [],
   "source": [
    "df = pd.read_csv(\"Salary_Data.csv\")"
   ]
  },
  {
   "cell_type": "code",
   "execution_count": 12,
   "id": "11505efe",
   "metadata": {},
   "outputs": [
    {
     "data": {
      "text/html": [
       "<div>\n",
       "<style scoped>\n",
       "    .dataframe tbody tr th:only-of-type {\n",
       "        vertical-align: middle;\n",
       "    }\n",
       "\n",
       "    .dataframe tbody tr th {\n",
       "        vertical-align: top;\n",
       "    }\n",
       "\n",
       "    .dataframe thead th {\n",
       "        text-align: right;\n",
       "    }\n",
       "</style>\n",
       "<table border=\"1\" class=\"dataframe\">\n",
       "  <thead>\n",
       "    <tr style=\"text-align: right;\">\n",
       "      <th></th>\n",
       "      <th>YearsExperience</th>\n",
       "      <th>Salary</th>\n",
       "    </tr>\n",
       "  </thead>\n",
       "  <tbody>\n",
       "    <tr>\n",
       "      <th>0</th>\n",
       "      <td>1.1</td>\n",
       "      <td>39343.0</td>\n",
       "    </tr>\n",
       "    <tr>\n",
       "      <th>1</th>\n",
       "      <td>1.3</td>\n",
       "      <td>46205.0</td>\n",
       "    </tr>\n",
       "    <tr>\n",
       "      <th>2</th>\n",
       "      <td>1.5</td>\n",
       "      <td>37731.0</td>\n",
       "    </tr>\n",
       "    <tr>\n",
       "      <th>3</th>\n",
       "      <td>2.0</td>\n",
       "      <td>43525.0</td>\n",
       "    </tr>\n",
       "    <tr>\n",
       "      <th>4</th>\n",
       "      <td>2.2</td>\n",
       "      <td>39891.0</td>\n",
       "    </tr>\n",
       "  </tbody>\n",
       "</table>\n",
       "</div>"
      ],
      "text/plain": [
       "   YearsExperience   Salary\n",
       "0              1.1  39343.0\n",
       "1              1.3  46205.0\n",
       "2              1.5  37731.0\n",
       "3              2.0  43525.0\n",
       "4              2.2  39891.0"
      ]
     },
     "execution_count": 12,
     "metadata": {},
     "output_type": "execute_result"
    }
   ],
   "source": [
    "df.head()"
   ]
  },
  {
   "cell_type": "code",
   "execution_count": 13,
   "id": "eaccd4e3",
   "metadata": {},
   "outputs": [
    {
     "data": {
      "text/plain": [
       "(30, 2)"
      ]
     },
     "execution_count": 13,
     "metadata": {},
     "output_type": "execute_result"
    }
   ],
   "source": [
    "df.shape"
   ]
  },
  {
   "cell_type": "code",
   "execution_count": 14,
   "id": "adfe064f",
   "metadata": {},
   "outputs": [
    {
     "data": {
      "text/plain": [
       "<AxesSubplot:xlabel='YearsExperience', ylabel='Salary'>"
      ]
     },
     "execution_count": 14,
     "metadata": {},
     "output_type": "execute_result"
    },
    {
     "data": {
      "image/png": "[encoded data removed]",
      "text/plain": [
       "<Figure size 640x480 with 1 Axes>"
      ]
     },
     "metadata": {},
     "output_type": "display_data"
    }
   ],
   "source": [
    "sns.scatterplot(x = 'YearsExperience', y = 'Salary', data = df)"
   ]
  },
  {
   "cell_type": "code",
   "execution_count": 15,
   "id": "3ba0224f",
   "metadata": {},
   "outputs": [
    {
     "data": {
      "text/plain": [
       "5.3133333333333335"
      ]
     },
     "execution_count": 15,
     "metadata": {},
     "output_type": "execute_result"
    }
   ],
   "source": [
    "x_mean = df['YearsExperience'].mean()\n",
    "x_mean"
   ]
  },
  {
   "cell_type": "code",
   "execution_count": 16,
   "id": "a02a2880",
   "metadata": {},
   "outputs": [
    {
     "data": {
      "text/plain": [
       "76003.0"
      ]
     },
     "execution_count": 16,
     "metadata": {},
     "output_type": "execute_result"
    }
   ],
   "source": [
    "y_mean = df['Salary'].mean()\n",
    "y_mean"
   ]
  },
  {
   "cell_type": "code",
   "execution_count": 17,
   "id": "5f2d15ba",
   "metadata": {},
   "outputs": [
    {
     "data": {
      "text/plain": [
       "9449.962321455077"
      ]
     },
     "execution_count": 17,
     "metadata": {},
     "output_type": "execute_result"
    }
   ],
   "source": [
    "# Calculating the m and c value for the equation y = mx +c \n",
    "\n",
    "m = len(df['YearsExperience'])\n",
    "numerator = 0\n",
    "denominator = 0\n",
    "\n",
    "\n",
    "for i in range(m):\n",
    "    numerator += (df['YearsExperience'][i] - x_mean) * (df['Salary'][i] - y_mean)\n",
    "    denominator += (df['YearsExperience'][i] - x_mean) ** 2\n",
    "    \n",
    "m = numerator / denominator\n",
    "m"
   ]
  },
  {
   "cell_type": "code",
   "execution_count": 18,
   "id": "246b4a6a",
   "metadata": {},
   "outputs": [
    {
     "data": {
      "text/plain": [
       "25792.20019866869"
      ]
     },
     "execution_count": 18,
     "metadata": {},
     "output_type": "execute_result"
    }
   ],
   "source": [
    "# Similarly, calculating the value of c = y - mx\n",
    "\n",
    "c = y_mean - m * x_mean\n",
    "c"
   ]
  },
  {
   "cell_type": "markdown",
   "id": "608a09fb",
   "metadata": {},
   "source": [
    "### Calculating the R squared value to check how our model is performing"
   ]
  },
  {
   "cell_type": "code",
   "execution_count": 19,
   "id": "90be9aad",
   "metadata": {},
   "outputs": [],
   "source": [
    "pred_y = []\n",
    "sum_of_square = 0\n",
    "sum_of_residual = 0\n",
    "\n",
    "for i in range(len(df['YearsExperience'])):\n",
    "    predicted_y = m * df['YearsExperience'][i] + c\n",
    "    pred_y.append(predicted_y)\n",
    "    sum_of_square += (df['Salary'][i] - predicted_y) ** 2\n",
    "    sum_of_residual += (df['Salary'][i] - y_mean) ** 2\n",
    "    \n",
    "    r_squared = 1 - (sum_of_square/sum_of_residual)"
   ]
  },
  {
   "cell_type": "code",
   "execution_count": 20,
   "id": "13126d36",
   "metadata": {},
   "outputs": [
    {
     "data": {
      "text/plain": [
       "0.9569566641435086"
      ]
     },
     "execution_count": 20,
     "metadata": {},
     "output_type": "execute_result"
    }
   ],
   "source": [
    "r_squared"
   ]
  },
  {
   "cell_type": "markdown",
   "id": "94604e43",
   "metadata": {},
   "source": [
    "### R Squared value of 95.69% shows that data points are really close to our regression line"
   ]
  },
  {
   "cell_type": "code",
   "execution_count": 21,
   "id": "04bfdeb0",
   "metadata": {},
   "outputs": [
    {
     "data": {
      "text/plain": [
       "[36187.15875226927,\n",
       " 38077.15121656029,\n",
       " 39967.1436808513,\n",
       " 44692.12484157884,\n",
       " 46582.11730586986,\n",
       " 53197.090930888415,\n",
       " 54142.087163033924,\n",
       " 56032.079627324936,\n",
       " 56032.079627324936,\n",
       " 60757.06078805248,\n",
       " 62647.05325234349,\n",
       " 63592.049484489,\n",
       " 63592.049484489,\n",
       " 64537.0457166345,\n",
       " 68317.03064521654,\n",
       " 72097.01557379856,\n",
       " 73987.00803808958,\n",
       " 75877.0005023806,\n",
       " 81546.97789525366,\n",
       " 82491.97412739915,\n",
       " 90051.94398456322,\n",
       " 92886.93268099974,\n",
       " 100446.90253816379,\n",
       " 103281.8912346003,\n",
       " 108006.87239532787,\n",
       " 110841.86109176438,\n",
       " 115566.84225249192,\n",
       " 116511.83848463744,\n",
       " 123126.81210965599,\n",
       " 125016.80457394701]"
      ]
     },
     "execution_count": 21,
     "metadata": {},
     "output_type": "execute_result"
    }
   ],
   "source": [
    "pred_y"
   ]
  },
  {
   "cell_type": "code",
   "execution_count": 22,
   "id": "204b3c2a",
   "metadata": {},
   "outputs": [
    {
     "data": {
      "text/plain": [
       "<AxesSubplot:xlabel='YearsExperience', ylabel='Salary'>"
      ]
     },
     "execution_count": 22,
     "metadata": {},
     "output_type": "execute_result"
    },
    {
     "data": {
      "image/png": "[encoded data removed]",
      "text/plain": [
       "<Figure size 640x480 with 1 Axes>"
      ]
     },
     "metadata": {},
     "output_type": "display_data"
    }
   ],
   "source": [
    "# Now let's visualize the regression line on the data points\n",
    "\n",
    "sns.scatterplot(x = df['YearsExperience'], y = df['Salary'], color='red')\n",
    "sns.lineplot(x = df['YearsExperience'], y = pred_y, color='blue')"
   ]
  }
 ],
 "metadata": {
  "kernelspec": {
   "display_name": "Python 3 (ipykernel)",
   "language": "python",
   "name": "python3"
  },
  "language_info": {
   "codemirror_mode": {
    "name": "ipython",
    "version": 3
   },
   "file_extension": ".py",
   "mimetype": "text/x-python",
   "name": "python",
   "nbconvert_exporter": "python",
   "pygments_lexer": "ipython3",
   "version": "3.9.13"
  }
 },
 "nbformat": 4,
 "nbformat_minor": 5
}
